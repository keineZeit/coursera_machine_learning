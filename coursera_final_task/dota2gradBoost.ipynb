{
 "cells": [
  {
   "cell_type": "markdown",
   "metadata": {},
   "source": [
    "# Градиентный бустинг. Отчет\n",
    "\n",
    "### 1. Пропуски среди своих значений имеют признаки: \n",
    "-  first_blood_time\n",
    "-  first_blood_team\n",
    "-  first_blood_player1\n",
    "-  first_blood_player2\n",
    "-  radiant_bottle_time\n",
    "-  radiant_courier_time\n",
    "-  radiant_flying_courier_time\n",
    "-  radiant_first_ward_time\n",
    "-  dire_bottle_time\n",
    "-  dire_courier_time\n",
    "-  dire_flying_courier_time\n",
    "-  dire_first_ward_time\n",
    "\n",
    "Пропуск в признаке *first_blood_time* может означать, что в первые 5 минут матча не происходило убийства.\n",
    "\n",
    "Пропуск в признаке *dire_first_ward_time* может означать, что в первые 5 минут матча \"наблюдатель\" не был поставлен.\n",
    "\n",
    "### 2. Как называется столбец, содержащий целевую переменную?\n",
    "\n",
    "*radiant_win*\n",
    "\n",
    "### 3. Как долго проводилась кросс-валидация для градиентного бустинга с 30 деревьями? Какое качество при этом получилось?\n",
    "\n",
    "__Время__: 0:01:45.821000. __Качество__: 0.69\n",
    "\n",
    "\n",
    "### 4. Имеет ли смысл использовать больше 30 деревьев в градиентном бустинге? Что бы вы предложили делать, чтобы ускорить его обучение при увеличении количества деревьев?\n",
    "\n",
    "Как видно из графика, увеличение числа деревьев приводит к увеличению качества кросс-валидации. Поэтому имеет смысл использовать больше 30 деревьев.\n",
    "\n",
    "Для ускорения обучения можно снизить глубину деревьев (max_depth) и уменьшить число блоков разбиений для кросс-валидации. Стоит отменить, что при этом падает качество обучения."
   ]
  },
  {
   "cell_type": "markdown",
   "metadata": {},
   "source": [
    "# Градиентный бустинг. Код"
   ]
  },
  {
   "cell_type": "code",
   "execution_count": 53,
   "metadata": {
    "collapsed": true
   },
   "outputs": [],
   "source": [
    "import pandas as pd\n",
    "import numpy as np\n",
    "import time\n",
    "import datetime\n",
    "import matplotlib.pyplot as plt\n",
    "%matplotlib inline\n",
    "\n",
    "from sklearn.cross_validation import KFold\n",
    "from sklearn.cross_validation import cross_val_score\n",
    "from sklearn.ensemble import GradientBoostingClassifier\n",
    "from __future__ import division"
   ]
  },
  {
   "cell_type": "markdown",
   "metadata": {},
   "source": [
    "### 1. Считайте таблицу с признаками из файла features.csv."
   ]
  },
  {
   "cell_type": "code",
   "execution_count": 3,
   "metadata": {
    "collapsed": true
   },
   "outputs": [],
   "source": [
    "features = pd.read_csv('features.csv', index_col='match_id')\n",
    "features.drop([\n",
    "    'duration', \n",
    "    'radiant_win', \n",
    "    'tower_status_radiant', \n",
    "    'tower_status_dire', \n",
    "    'barracks_status_radiant',\n",
    "    'barracks_status_dire'\n",
    "], axis=1, inplace=True)"
   ]
  },
  {
   "cell_type": "markdown",
   "metadata": {},
   "source": [
    "### 2. Проверьте выборку на наличие пропусков с помощью функции count()."
   ]
  },
  {
   "cell_type": "code",
   "execution_count": null,
   "metadata": {
    "collapsed": true
   },
   "outputs": [],
   "source": [
    "print(features.shape)\n",
    "print(features.count())"
   ]
  },
  {
   "cell_type": "markdown",
   "metadata": {},
   "source": [
    "### 3. Замените пропуски на нули с помощью функции fillna()."
   ]
  },
  {
   "cell_type": "code",
   "execution_count": 4,
   "metadata": {
    "collapsed": true
   },
   "outputs": [],
   "source": [
    "features.fillna(value=0, inplace=True)"
   ]
  },
  {
   "cell_type": "markdown",
   "metadata": {},
   "source": [
    "### 4. Какой столбец содержит целевую переменную."
   ]
  },
  {
   "cell_type": "code",
   "execution_count": null,
   "metadata": {
    "collapsed": true
   },
   "outputs": [],
   "source": [
    "# Столбец radiant_win"
   ]
  },
  {
   "cell_type": "markdown",
   "metadata": {},
   "source": [
    "### 5. Попробуем обучить градиентный бустинг над деревьями на имеющейся матрице \"объекты-признаки\". "
   ]
  },
  {
   "cell_type": "code",
   "execution_count": 67,
   "metadata": {},
   "outputs": [
    {
     "name": "stdout",
     "output_type": "stream",
     "text": [
      "Time elapsed:  0:00:17.556000\n",
      "n_trees: 5 . Score: [ 0.63397413  0.64193832  0.63298826  0.63554642  0.63234004]\n",
      "Time elapsed:  0:00:29.042000\n",
      "n_trees: 10 . Score: [ 0.66383799  0.66635457  0.66360048  0.66529818  0.66516222]\n",
      "Time elapsed:  0:00:41.349000\n",
      "n_trees: 15 . Score: [ 0.67589098  0.67647457  0.67383635  0.67687101  0.67817953]\n",
      "Time elapsed:  0:00:54.887000\n",
      "n_trees: 20 . Score: [ 0.68083889  0.68272733  0.67969876  0.6834932   0.6855512 ]\n",
      "Time elapsed:  0:01:07.123000\n",
      "n_trees: 25 . Score: [ 0.68641138  0.68606793  0.6838322   0.68810339  0.68906025]\n",
      "Time elapsed:  0:01:23.529000\n",
      "n_trees: 30 . Score: [ 0.68892093  0.68934663  0.68712298  0.69180598  0.69283583]\n",
      "Time elapsed:  0:01:45.821000\n",
      "n_trees: 40 . Score: [ 0.69264125  0.69335305  0.69153074  0.69586466  0.69680392]\n",
      "Time elapsed:  0:03:31.315000\n",
      "n_trees: 80 . Score: [ 0.70272368  0.70352284  0.70166409  0.70536378  0.70579495]\n",
      "Time elapsed:  0:06:59.689000\n",
      "n_trees: 160 . Score: [ 0.70965102  0.71083336  0.71000567  0.7123734   0.71336787]\n",
      "Time elapsed:  0:08:40.627000\n",
      "n_trees: 200 . Score: [ 0.71213644  0.71304231  0.71228251  0.71555138  0.71549651]\n",
      "Time elapsed:  0:10:56.125000\n",
      "n_trees: 250 . Score: [ 0.71546706  0.714627    0.71491688  0.71730478  0.71710794]\n",
      "Time elapsed:  0:13:47.890000\n",
      "n_trees: 300 . Score: [ 0.71677471  0.71580481  0.7168989   0.71896183  0.71876687]\n",
      "Time elapsed:  0:16:54.680000\n",
      "n_trees: 400 . Score: [ 0.7188478   0.71789007  0.71925551  0.7216185   0.72054177]\n"
     ]
    }
   ],
   "source": [
    "data = pd.read_csv('features.csv')\n",
    "data.fillna(value=0, inplace=True)\n",
    "X_train = data.drop([\n",
    "    'duration', \n",
    "    'radiant_win', \n",
    "    'tower_status_radiant', \n",
    "    'tower_status_dire', \n",
    "    'barracks_status_radiant',\n",
    "    'barracks_status_dire'\n",
    "], axis=1)\n",
    "y_train = data['radiant_win']\n",
    "\n",
    "scores = []\n",
    "n_trees = [5, 10, 15, 20, 25, 30, 40, 80, 160, 200, 250, 300, 400]\n",
    "#n_trees = [10, 20, 30]\n",
    "kf = KFold(n=len(y_train.values), n_folds=5, shuffle=True, random_state=42)\n",
    "for n_est in n_trees:\n",
    "    clf = GradientBoostingClassifier(\n",
    "        n_estimators=n_est, \n",
    "        random_state=241, \n",
    "        learning_rate=0.1)\n",
    "    start_time = datetime.datetime.now()\n",
    "    score = cross_val_score(clf, X_train.values, y_train.values, cv=kf, scoring='roc_auc')\n",
    "    print 'Time elapsed: ', datetime.datetime.now() - start_time\n",
    "    print 'n_trees:', n_est, '. Score:', score\n",
    "    scores.append(np.mean(score))"
   ]
  },
  {
   "cell_type": "code",
   "execution_count": 68,
   "metadata": {
    "scrolled": true
   },
   "outputs": [
    {
     "data": {
      "image/png": "[encoded data removed]",
      "text/plain": [
       "<matplotlib.figure.Figure at 0x106bfeb8>"
      ]
     },
     "metadata": {},
     "output_type": "display_data"
    }
   ],
   "source": [
    "plt.plot(n_trees, scores)\n",
    "plt.show()"
   ]
  },
  {
   "cell_type": "code",
   "execution_count": null,
   "metadata": {
    "collapsed": true
   },
   "outputs": [],
   "source": []
  }
 ],
 "metadata": {
  "kernelspec": {
   "display_name": "Python 2",
   "language": "python",
   "name": "python2"
  },
  "language_info": {
   "codemirror_mode": {
    "name": "ipython",
    "version": 2
   },
   "file_extension": ".py",
   "mimetype": "text/x-python",
   "name": "python",
   "nbconvert_exporter": "python",
   "pygments_lexer": "ipython2",
   "version": "2.7.14"
  }
 },
 "nbformat": 4,
 "nbformat_minor": 2
}
