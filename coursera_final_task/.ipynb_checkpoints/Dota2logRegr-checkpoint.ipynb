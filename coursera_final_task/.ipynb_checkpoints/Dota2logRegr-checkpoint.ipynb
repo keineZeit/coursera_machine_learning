{
 "cells": [
  {
   "cell_type": "code",
   "execution_count": 3,
   "metadata": {
    "collapsed": true
   },
   "outputs": [],
   "source": [
    "import pandas as pd\n",
    "import numpy as np\n",
    "import time\n",
    "import datetime\n",
    "import matplotlib.pyplot as plt\n",
    "%matplotlib inline\n",
    "\n",
    "from sklearn.cross_validation import KFold\n",
    "from sklearn.cross_validation import cross_val_score\n",
    "from sklearn.preprocessing import StandardScaler\n",
    "from sklearn.linear_model import LogisticRegression\n",
    "from __future__ import division"
   ]
  },
  {
   "cell_type": "code",
   "execution_count": 13,
   "metadata": {},
   "outputs": [
    {
     "name": "stdout",
     "output_type": "stream",
     "text": [
      "Time elapsed:  0:00:03.602000\n",
      "c: 1e-05  Score: [ 0.69319354  0.69494784  0.69579451  0.69508961  0.6970467 ]\n",
      "Time elapsed:  0:00:10.706000\n",
      "c: 0.001  Score: [ 0.7146791   0.71587433  0.71631789  0.71700923  0.71838037]\n",
      "Time elapsed:  0:00:14.855000\n",
      "c: 0.1  Score: [ 0.71488151  0.71626834  0.71617246  0.71738508  0.7183599 ]\n",
      "Time elapsed:  0:00:15.012000\n",
      "c: 1  Score: [ 0.71487632  0.71626572  0.7161657   0.71738524  0.71835425]\n",
      "Time elapsed:  0:00:15.250000\n",
      "c: 10  Score: [ 0.71487588  0.71626501  0.716164    0.71738562  0.71835375]\n",
      "Time elapsed:  0:00:14.593000\n",
      "c: 1000  Score: [ 0.71487561  0.71626511  0.71616389  0.71738576  0.71835373]\n",
      "Time elapsed:  0:00:14.564000\n",
      "c: 100000  Score: [ 0.71487559  0.71626513  0.71616392  0.71738575  0.71835373]\n",
      "Time elapsed:  0:00:14.485000\n",
      "c: 10000000  Score: [ 0.71487559  0.71626513  0.71616392  0.71738575  0.71835372]\n"
     ]
    }
   ],
   "source": [
    "data = pd.read_csv('features.csv')\n",
    "data.fillna(value=0, inplace=True)\n",
    "X = data.drop([\n",
    "    'duration', \n",
    "    'radiant_win', \n",
    "    'tower_status_radiant', \n",
    "    'tower_status_dire', \n",
    "    'barracks_status_radiant',\n",
    "    'barracks_status_dire'\n",
    "], axis=1)\n",
    "y_train = data['radiant_win']\n",
    "scaler = StandardScaler()\n",
    "X.fillna(value=0, inplace=True)\n",
    "X_train = scaler.fit_transform(X)\n",
    "\n",
    "scores = []\n",
    "C = [0.00001, 0.001, 0.1, 1, 10, 1000, 100000, 10000000]\n",
    "kf = KFold(n=len(y_train.values), n_folds=5, shuffle=True, random_state=42)\n",
    "for c in C:\n",
    "    clf = LogisticRegression(C=c, random_state=42)\n",
    "    start_time = datetime.datetime.now()\n",
    "    score = cross_val_score(clf, X_train, y_train, cv=kf, scoring='roc_auc')\n",
    "    print 'Time elapsed: ', datetime.datetime.now() - start_time\n",
    "    print 'c:', c, ' Score:', score\n",
    "    scores.append(np.mean(score))"
   ]
  },
  {
   "cell_type": "code",
   "execution_count": 14,
   "metadata": {},
   "outputs": [
    {
     "data": {
      "text/plain": [
       "[0.6952144391806121,\n",
       " 0.71645218578402381,\n",
       " 0.7166134590149138,\n",
       " 0.71660944444210095,\n",
       " 0.71660885343025182,\n",
       " 0.71660881951987421,\n",
       " 0.71660882163599615,\n",
       " 0.71660881951741429]"
      ]
     },
     "execution_count": 14,
     "metadata": {},
     "output_type": "execute_result"
    }
   ],
   "source": [
    "scores"
   ]
  },
  {
   "cell_type": "code",
   "execution_count": null,
   "metadata": {
    "collapsed": true
   },
   "outputs": [],
   "source": []
  }
 ],
 "metadata": {
  "kernelspec": {
   "display_name": "Python 2",
   "language": "python",
   "name": "python2"
  },
  "language_info": {
   "codemirror_mode": {
    "name": "ipython",
    "version": 2
   },
   "file_extension": ".py",
   "mimetype": "text/x-python",
   "name": "python",
   "nbconvert_exporter": "python",
   "pygments_lexer": "ipython2",
   "version": "2.7.14"
  }
 },
 "nbformat": 4,
 "nbformat_minor": 2
}
