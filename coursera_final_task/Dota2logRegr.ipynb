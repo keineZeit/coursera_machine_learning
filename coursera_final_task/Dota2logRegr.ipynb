{
 "cells": [
  {
   "cell_type": "markdown",
   "metadata": {},
   "source": [
    "# Логистическая регрессия. Отчет\n",
    "\n",
    "### 1. Какое качество получилось у логистической регрессии над всеми исходными признаками? Как оно соотносится с качеством градиентного бустинга? Чем вы можете объяснить эту разницу? Быстрее ли работает логистическая регрессия по сравнению с градиентным бустингом?: \n",
    "\n",
    "Наилучшее качество (С=100000): 0.72. Это приблизительно равно качеству градиентного бустинга с 400 деревьями.\n",
    "Логистическая регрессия работает быстрее градиентного бустинга примерно в 3 раза (для 30 деревьев и С=0.00001) и в 67 раз (для 400 деревьев и С=10000000).\n",
    "\n",
    "### 2. Как влияет на качество логистической регрессии удаление категориальных признаков (укажите новое значение метрики качества)? Чем вы можете объяснить это изменение?\n",
    "\n",
    "Удаление категориальных признаков практически не влияет на качество регрессии. Значение метрики - 0.71\n",
    "\n",
    "### 3. Сколько различных идентификаторов героев существует в данной игре?\n",
    "\n",
    "112\n",
    "\n",
    "### 4. Какое получилось качество при добавлении \"мешка слов\" по героям? Улучшилось ли оно по сравнению с предыдущим вариантом? Чем вы можете это объяснить?\n",
    "\n",
    "0.75. Качество улучшилось. Это связано с тем, что вместо удаления информативных категориальных признаков мы заменили их на числовые аналоги с сохранением их смысла. Таким образом мы не потеряли признаки, которые, как оказалось, имеют немалый вес.\n",
    "\n",
    "### 5. Какое минимальное и максимальное значение прогноза на тестовой выборке получилось у лучшего из алгоритмов?\n",
    "\n",
    "Минимальные 0.009\n",
    "\n",
    "Максимальное 0.997"
   ]
  },
  {
   "cell_type": "code",
   "execution_count": 7,
   "metadata": {},
   "outputs": [],
   "source": [
    "import pandas as pd\n",
    "import numpy as np\n",
    "import time\n",
    "import datetime\n",
    "import matplotlib.pyplot as plt\n",
    "%matplotlib inline\n",
    "\n",
    "from sklearn.cross_validation import KFold\n",
    "from sklearn.cross_validation import cross_val_score\n",
    "from sklearn.preprocessing import StandardScaler\n",
    "from sklearn.linear_model import LogisticRegression\n",
    "from __future__ import division\n",
    "\n",
    "data = pd.read_csv('data/features.csv', index_col='match_id')\n",
    "data_heroes = pd.read_csv('data/dictionaries/heroes.csv')\n",
    "data_test = pd.read_csv('data/features_test.csv', index_col='match_id')"
   ]
  },
  {
   "cell_type": "markdown",
   "metadata": {},
   "source": [
    "### 1. Оцените качество логистической регрессии (sklearn.linear_model.LogisticRegression с L2-регуляризацией) с помощью кросс-валидации по той же схеме, которая использовалась для градиентного бустинга. Подберите при этом лучший параметр регуляризации (C)."
   ]
  },
  {
   "cell_type": "code",
   "execution_count": 3,
   "metadata": {},
   "outputs": [
    {
     "name": "stdout",
     "output_type": "stream",
     "text": [
      "Time elapsed:  0:00:04.130000\n",
      "c: 1e-05  Score: [ 0.6931532   0.69481539  0.69571379  0.69513159  0.69699445]\n",
      "Time elapsed:  0:00:10.534000\n",
      "c: 0.001  Score: [ 0.71449541  0.71577214  0.71625974  0.71697301  0.71831738]\n",
      "Time elapsed:  0:00:14.494000\n",
      "c: 0.1  Score: [ 0.71462192  0.71617479  0.71619187  0.71737596  0.7182712 ]\n",
      "Time elapsed:  0:00:15.158000\n",
      "c: 1  Score: [ 0.71461815  0.71617185  0.71618338  0.7173762   0.71826341]\n",
      "Time elapsed:  0:00:15.052000\n",
      "c: 10  Score: [ 0.71461695  0.71617179  0.71618281  0.71737669  0.7182632 ]\n",
      "Time elapsed:  0:00:15.294000\n",
      "c: 1000  Score: [ 0.71461693  0.71617214  0.7161825   0.71737659  0.71826346]\n",
      "Time elapsed:  0:00:14.538000\n",
      "c: 100000  Score: [ 0.71461693  0.71617215  0.71618252  0.71737661  0.71826345]\n",
      "Time elapsed:  0:00:14.592000\n",
      "c: 10000000  Score: [ 0.71461693  0.71617215  0.71618252  0.71737661  0.71826345]\n"
     ]
    }
   ],
   "source": [
    "data.fillna(value=0, inplace=True)\n",
    "X = data.drop([\n",
    "    'duration', \n",
    "    'radiant_win', \n",
    "    'tower_status_radiant', \n",
    "    'tower_status_dire', \n",
    "    'barracks_status_radiant',\n",
    "    'barracks_status_dire'\n",
    "], axis=1)\n",
    "y_train = data['radiant_win']\n",
    "scaler = StandardScaler()\n",
    "X.fillna(value=0, inplace=True)\n",
    "X_train = scaler.fit_transform(X)\n",
    "\n",
    "scores = []\n",
    "C = [0.00001, 0.001, 0.1, 1, 10, 1000, 100000, 10000000]\n",
    "kf = KFold(n=len(y_train.values), n_folds=5, shuffle=True, random_state=42)\n",
    "for c in C:\n",
    "    clf = LogisticRegression(C=c, random_state=42)\n",
    "    start_time = datetime.datetime.now()\n",
    "    score = cross_val_score(clf, X_train, y_train, cv=kf, scoring='roc_auc')\n",
    "    print 'Time elapsed: ', datetime.datetime.now() - start_time\n",
    "    print 'c:', c, ' Score:', score\n",
    "    scores.append(np.mean(score))"
   ]
  },
  {
   "cell_type": "markdown",
   "metadata": {
    "collapsed": true
   },
   "source": [
    "### 2. Уберите категориальные признаки из выборки, и проведите кросс-валидацию для логистической регрессии на новой выборке с подбором лучшего параметра регуляризации. "
   ]
  },
  {
   "cell_type": "code",
   "execution_count": 74,
   "metadata": {},
   "outputs": [
    {
     "name": "stdout",
     "output_type": "stream",
     "text": [
      "Time elapsed:  0:00:03.329000\n",
      "c: 1e-05  Score: [ 0.69315871  0.69479523  0.69564582  0.69518196  0.69694992]\n",
      "Time elapsed:  0:00:10.308000\n",
      "c: 0.001  Score: [ 0.71454097  0.71576992  0.71623277  0.71701307  0.71829979]\n",
      "Time elapsed:  0:00:14.315000\n",
      "c: 0.1  Score: [ 0.7146576   0.71617303  0.71617642  0.71739988  0.71825905]\n",
      "Time elapsed:  0:00:14.589000\n",
      "c: 1  Score: [ 0.71465418  0.7161692   0.7161687   0.71739792  0.71825005]\n",
      "Time elapsed:  0:00:14.410000\n",
      "c: 10  Score: [ 0.71465377  0.71616925  0.71616883  0.71739829  0.71824948]\n",
      "Time elapsed:  0:00:14.420000\n",
      "c: 1000  Score: [ 0.71465364  0.71616924  0.71616864  0.71739836  0.71824937]\n",
      "Time elapsed:  0:00:14.659000\n",
      "c: 100000  Score: [ 0.71465364  0.71616924  0.7161686   0.71739837  0.71824937]\n",
      "Time elapsed:  0:00:15.522000\n",
      "c: 10000000  Score: [ 0.71465364  0.71616924  0.7161686   0.71739837  0.71824937]\n"
     ]
    }
   ],
   "source": [
    "X = data.drop([\n",
    "    'duration', \n",
    "    'radiant_win', \n",
    "    'tower_status_radiant', \n",
    "    'tower_status_dire', \n",
    "    'barracks_status_radiant',\n",
    "    'barracks_status_dire',\n",
    "    'lobby_type',\n",
    "], axis=1)\n",
    "for n in range(1, 6):\n",
    "    X.drop(['r{}_hero'.format(n)], axis=1)\n",
    "    X.drop(['d{}_hero'.format(n)], axis=1)\n",
    "y_train = data['radiant_win']\n",
    "scaler = StandardScaler()\n",
    "X.fillna(value=0, inplace=True)\n",
    "X_train = scaler.fit_transform(X)\n",
    "\n",
    "scores = []\n",
    "C = [0.00001, 0.001, 0.1, 1, 10, 1000, 100000, 10000000]\n",
    "kf = KFold(n=len(y_train.values), n_folds=5, shuffle=True, random_state=42)\n",
    "for c in C:\n",
    "    clf = LogisticRegression(C=c, random_state=42)\n",
    "    start_time = datetime.datetime.now()\n",
    "    score = cross_val_score(clf, X_train, y_train, cv=kf, scoring='roc_auc')\n",
    "    print 'Time elapsed: ', datetime.datetime.now() - start_time\n",
    "    print 'c:', c, ' Score:', score\n",
    "    scores.append(np.mean(score))"
   ]
  },
  {
   "cell_type": "markdown",
   "metadata": {},
   "source": [
    "### 3. Выясните из данных, сколько различных идентификаторов героев существует в данной игре."
   ]
  },
  {
   "cell_type": "code",
   "execution_count": 4,
   "metadata": {},
   "outputs": [
    {
     "name": "stdout",
     "output_type": "stream",
     "text": [
      "Hero count: 112\n"
     ]
    }
   ],
   "source": [
    "print 'Hero count: ' + str(data_heroes.shape[0])"
   ]
  },
  {
   "cell_type": "markdown",
   "metadata": {},
   "source": [
    "### 4. Воспользуемся подходом \"мешок слов\" для кодирования информации о героях."
   ]
  },
  {
   "cell_type": "code",
   "execution_count": 2,
   "metadata": {
    "collapsed": true
   },
   "outputs": [],
   "source": [
    "N = data_heroes.shape[0]\n",
    "X_pick = np.zeros((data.shape[0], N))\n",
    "\n",
    "for i, match_id in enumerate(data.index):\n",
    "    for p in xrange(5):\n",
    "        X_pick[i, data.loc[match_id, 'r%d_hero' % (p+1)]-1] = 1\n",
    "        X_pick[i, data.loc[match_id, 'd%d_hero' % (p+1)]-1] = -1"
   ]
  },
  {
   "cell_type": "markdown",
   "metadata": {},
   "source": [
    "### 5. Проведите кросс-валидацию для логистической регрессии на новой выборке с подбором лучшего параметра регуляризации."
   ]
  },
  {
   "cell_type": "code",
   "execution_count": 3,
   "metadata": {},
   "outputs": [
    {
     "name": "stdout",
     "output_type": "stream",
     "text": [
      "Time elapsed:  0:00:07.923000\n",
      "c: 1e-05  Score: [ 0.71232219  0.71414825  0.71442411  0.71647376  0.71664742]\n",
      "Time elapsed:  0:00:19.797000\n",
      "c: 0.001  Score: [ 0.74890517  0.7522602   0.74929734  0.75585436  0.75156937]\n",
      "Time elapsed:  0:00:31.107000\n",
      "c: 0.1  Score: [ 0.74938328  0.75312868  0.7493699   0.75610595  0.75149897]\n",
      "Time elapsed:  0:00:31.032000\n",
      "c: 1  Score: [ 0.74937961  0.75312484  0.74936322  0.75609744  0.75148981]\n",
      "Time elapsed:  0:00:29.985000\n",
      "c: 10  Score: [ 0.74937942  0.753125    0.74936265  0.75609606  0.7514887 ]\n",
      "Time elapsed:  0:00:30.078000\n",
      "c: 1000  Score: [ 0.74937939  0.75312504  0.74936235  0.75609589  0.75148854]\n",
      "Time elapsed:  0:00:30.141000\n",
      "c: 100000  Score: [ 0.74937941  0.75312504  0.74936234  0.75609589  0.75148853]\n",
      "Time elapsed:  0:00:30.082000\n",
      "c: 10000000  Score: [ 0.74937941  0.75312504  0.74936234  0.75609589  0.75148853]\n"
     ]
    }
   ],
   "source": [
    "X = data.drop([\n",
    "    'duration', \n",
    "    'radiant_win', \n",
    "    'tower_status_radiant', \n",
    "    'tower_status_dire', \n",
    "    'barracks_status_radiant',\n",
    "    'barracks_status_dire',\n",
    "    'lobby_type',\n",
    "], axis=1)\n",
    "for n in range(1, 6):\n",
    "    X.drop(['r{}_hero'.format(n)], axis=1)\n",
    "    X.drop(['d{}_hero'.format(n)], axis=1)\n",
    "\n",
    "# forming bag-of-words      \n",
    "X_pick_transp = np.transpose(X_pick)\n",
    "for i in range(0, N):\n",
    "    X[\"bow_\"+str(i)] = pd.Series(X_pick_transp[i], index=data.index)\n",
    "\n",
    "y_train = data['radiant_win']\n",
    "scaler = StandardScaler()\n",
    "X.fillna(value=0, inplace=True)\n",
    "X_train = scaler.fit_transform(X)\n",
    "\n",
    "scores = []\n",
    "C = [0.00001, 0.001, 0.1, 1, 10, 1000, 100000, 10000000]\n",
    "kf = KFold(n=len(y_train.values), n_folds=5, shuffle=True, random_state=42)\n",
    "for c in C:\n",
    "    clf = LogisticRegression(C=c, random_state=42)\n",
    "    start_time = datetime.datetime.now()\n",
    "    score = cross_val_score(clf, X_train, y_train, cv=kf, scoring='roc_auc')\n",
    "    print 'Time elapsed: ', datetime.datetime.now() - start_time\n",
    "    print 'c:', c, ' Score:', score\n",
    "    scores.append(np.mean(score))"
   ]
  },
  {
   "cell_type": "code",
   "execution_count": 4,
   "metadata": {},
   "outputs": [
    {
     "data": {
      "image/png": "[encoded data removed]",
      "text/plain": [
       "<matplotlib.figure.Figure at 0x5bf9240>"
      ]
     },
     "metadata": {},
     "output_type": "display_data"
    }
   ],
   "source": [
    "plt.plot([1, 2, 3, 4, 5, 6, 7, 8], scores)\n",
    "plt.show()"
   ]
  },
  {
   "cell_type": "markdown",
   "metadata": {},
   "source": [
    "### 6. Постройте предсказания вероятностей победы команды Radiant для тестовой выборки с помощью лучшей из изученных моделей (лучшей с точки зрения AUC-ROC на кросс-валидации)."
   ]
  },
  {
   "cell_type": "code",
   "execution_count": 6,
   "metadata": {},
   "outputs": [
    {
     "name": "stdout",
     "output_type": "stream",
     "text": [
      "min0.00892501228453\n",
      "max0.996509452456\n"
     ]
    }
   ],
   "source": [
    "# Forming test features -----------------------------------------------\n",
    "N = data_heroes.shape[0]\n",
    "X_pick = np.zeros((data_test.shape[0], N))\n",
    "for i, match_id in enumerate(data_test.index):\n",
    "    for p in xrange(5):\n",
    "        X_pick[i, data_test.loc[match_id, 'r%d_hero' % (p+1)]-1] = 1\n",
    "        X_pick[i, data_test.loc[match_id, 'd%d_hero' % (p+1)]-1] = -1\n",
    "        \n",
    "X = data_test.drop(['lobby_type'], axis=1)\n",
    "for n in range(1, 6):\n",
    "    X.drop(['r{}_hero'.format(n)], axis=1)\n",
    "    X.drop(['d{}_hero'.format(n)], axis=1)\n",
    "\n",
    "# forming bag-of-words      \n",
    "X_pick_transp = np.transpose(X_pick)\n",
    "for i in range(0, N):\n",
    "    X[\"bow_\"+str(i)] = pd.Series(X_pick_transp[i], index=data_test.index)\n",
    "\n",
    "scaler = StandardScaler()\n",
    "X.fillna(value=0, inplace=True)\n",
    "X_test = scaler.fit_transform(X)\n",
    "\n",
    "# Test\n",
    "clf.fit(X_train, y_train)\n",
    "prob_pos = clf.predict_proba(X_test)\n",
    "\n",
    "print 'min ' + str(min(prob_pos[:, 1]))\n",
    "print 'max ' + str(max(prob_pos[:, 1]))"
   ]
  },
  {
   "cell_type": "code",
   "execution_count": null,
   "metadata": {
    "collapsed": true
   },
   "outputs": [],
   "source": []
  }
 ],
 "metadata": {
  "kernelspec": {
   "display_name": "Python 2",
   "language": "python",
   "name": "python2"
  },
  "language_info": {
   "codemirror_mode": {
    "name": "ipython",
    "version": 2
   },
   "file_extension": ".py",
   "mimetype": "text/x-python",
   "name": "python",
   "nbconvert_exporter": "python",
   "pygments_lexer": "ipython2",
   "version": "2.7.14"
  }
 },
 "nbformat": 4,
 "nbformat_minor": 2
}
