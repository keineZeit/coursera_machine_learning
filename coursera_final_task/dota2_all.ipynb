{
 "cells": [
  {
   "cell_type": "markdown",
   "metadata": {},
   "source": [
    "# Градиентный бустинг. Отчет\n",
    "\n",
    "### 1. Пропуски среди своих значений имеют признаки: \n",
    "-  first_blood_time\n",
    "-  first_blood_team\n",
    "-  first_blood_player1\n",
    "-  first_blood_player2\n",
    "-  radiant_bottle_time\n",
    "-  radiant_courier_time\n",
    "-  radiant_flying_courier_time\n",
    "-  radiant_first_ward_time\n",
    "-  dire_bottle_time\n",
    "-  dire_courier_time\n",
    "-  dire_flying_courier_time\n",
    "-  dire_first_ward_time\n",
    "\n",
    "Пропуск в признаке *first_blood_time* может означать, что в первые 5 минут матча не происходило убийства.\n",
    "\n",
    "Пропуск в признаке *dire_first_ward_time* может означать, что в первые 5 минут матча \"наблюдатель\" не был поставлен.\n",
    "\n",
    "### 2. Как называется столбец, содержащий целевую переменную?\n",
    "\n",
    "*radiant_win*\n",
    "\n",
    "### 3. Как долго проводилась кросс-валидация для градиентного бустинга с 30 деревьями? Какое качество при этом получилось?\n",
    "\n",
    "__Время__: 0:02:06.902000. __Качество__: 0.69\n",
    "\n",
    "\n",
    "### 4. Имеет ли смысл использовать больше 30 деревьев в градиентном бустинге? Что бы вы предложили делать, чтобы ускорить его обучение при увеличении количества деревьев?\n",
    "\n",
    "Как видно из графика, увеличение числа деревьев приводит к увеличению качества кросс-валидации. Поэтому имеет смысл использовать больше 30 деревьев.\n",
    "\n",
    "Для ускорения обучения можно снизить глубину деревьев (max_depth) и уменьшить число блоков разбиений для кросс-валидации. Стоит отменить, что при этом падает качество обучения."
   ]
  },
  {
   "cell_type": "markdown",
   "metadata": {},
   "source": [
    "# Градиентный бустинг. Код"
   ]
  },
  {
   "cell_type": "code",
   "execution_count": 1,
   "metadata": {},
   "outputs": [
    {
     "name": "stderr",
     "output_type": "stream",
     "text": [
      "D:\\Anaconda2\\lib\\site-packages\\sklearn\\cross_validation.py:41: DeprecationWarning: This module was deprecated in version 0.18 in favor of the model_selection module into which all the refactored classes and functions are moved. Also note that the interface of the new CV iterators are different from that of this module. This module will be removed in 0.20.\n",
      "  \"This module will be removed in 0.20.\", DeprecationWarning)\n"
     ]
    }
   ],
   "source": [
    "import pandas as pd\n",
    "import numpy as np\n",
    "import time\n",
    "import datetime\n",
    "import matplotlib.pyplot as plt\n",
    "%matplotlib inline\n",
    "\n",
    "from sklearn.cross_validation import KFold\n",
    "from sklearn.cross_validation import cross_val_score\n",
    "from sklearn.ensemble import GradientBoostingClassifier\n",
    "from __future__ import division"
   ]
  },
  {
   "cell_type": "markdown",
   "metadata": {},
   "source": [
    "### 1. Считайте таблицу с признаками из файла features.csv."
   ]
  },
  {
   "cell_type": "code",
   "execution_count": 2,
   "metadata": {
    "collapsed": true
   },
   "outputs": [],
   "source": [
    "features = pd.read_csv('data/features.csv', index_col='match_id')\n",
    "features.drop([\n",
    "    'duration', \n",
    "    'radiant_win', \n",
    "    'tower_status_radiant', \n",
    "    'tower_status_dire', \n",
    "    'barracks_status_radiant',\n",
    "    'barracks_status_dire'\n",
    "], axis=1, inplace=True)"
   ]
  },
  {
   "cell_type": "markdown",
   "metadata": {},
   "source": [
    "### 2. Проверьте выборку на наличие пропусков с помощью функции count()."
   ]
  },
  {
   "cell_type": "code",
   "execution_count": 3,
   "metadata": {},
   "outputs": [
    {
     "name": "stdout",
     "output_type": "stream",
     "text": [
      "(97230, 102)\n",
      "start_time                     97230\n",
      "lobby_type                     97230\n",
      "r1_hero                        97230\n",
      "r1_level                       97230\n",
      "r1_xp                          97230\n",
      "r1_gold                        97230\n",
      "r1_lh                          97230\n",
      "r1_kills                       97230\n",
      "r1_deaths                      97230\n",
      "r1_items                       97230\n",
      "r2_hero                        97230\n",
      "r2_level                       97230\n",
      "r2_xp                          97230\n",
      "r2_gold                        97230\n",
      "r2_lh                          97230\n",
      "r2_kills                       97230\n",
      "r2_deaths                      97230\n",
      "r2_items                       97230\n",
      "r3_hero                        97230\n",
      "r3_level                       97230\n",
      "r3_xp                          97230\n",
      "r3_gold                        97230\n",
      "r3_lh                          97230\n",
      "r3_kills                       97230\n",
      "r3_deaths                      97230\n",
      "r3_items                       97230\n",
      "r4_hero                        97230\n",
      "r4_level                       97230\n",
      "r4_xp                          97230\n",
      "r4_gold                        97230\n",
      "                               ...  \n",
      "d4_deaths                      97230\n",
      "d4_items                       97230\n",
      "d5_hero                        97230\n",
      "d5_level                       97230\n",
      "d5_xp                          97230\n",
      "d5_gold                        97230\n",
      "d5_lh                          97230\n",
      "d5_kills                       97230\n",
      "d5_deaths                      97230\n",
      "d5_items                       97230\n",
      "first_blood_time               77677\n",
      "first_blood_team               77677\n",
      "first_blood_player1            77677\n",
      "first_blood_player2            53243\n",
      "radiant_bottle_time            81539\n",
      "radiant_courier_time           96538\n",
      "radiant_flying_courier_time    69751\n",
      "radiant_tpscroll_count         97230\n",
      "radiant_boots_count            97230\n",
      "radiant_ward_observer_count    97230\n",
      "radiant_ward_sentry_count      97230\n",
      "radiant_first_ward_time        95394\n",
      "dire_bottle_time               81087\n",
      "dire_courier_time              96554\n",
      "dire_flying_courier_time       71132\n",
      "dire_tpscroll_count            97230\n",
      "dire_boots_count               97230\n",
      "dire_ward_observer_count       97230\n",
      "dire_ward_sentry_count         97230\n",
      "dire_first_ward_time           95404\n",
      "Length: 102, dtype: int64\n"
     ]
    }
   ],
   "source": [
    "print(features.shape)\n",
    "print(features.count())"
   ]
  },
  {
   "cell_type": "markdown",
   "metadata": {},
   "source": [
    "### 3. Замените пропуски на нули с помощью функции fillna()."
   ]
  },
  {
   "cell_type": "code",
   "execution_count": 4,
   "metadata": {
    "collapsed": true
   },
   "outputs": [],
   "source": [
    "features.fillna(value=0, inplace=True)"
   ]
  },
  {
   "cell_type": "markdown",
   "metadata": {},
   "source": [
    "### 4. Какой столбец содержит целевую переменную."
   ]
  },
  {
   "cell_type": "code",
   "execution_count": 5,
   "metadata": {
    "collapsed": true
   },
   "outputs": [],
   "source": [
    "# Столбец radiant_win"
   ]
  },
  {
   "cell_type": "markdown",
   "metadata": {},
   "source": [
    "### 5. Попробуем обучить градиентный бустинг над деревьями на имеющейся матрице \"объекты-признаки\". "
   ]
  },
  {
   "cell_type": "code",
   "execution_count": 6,
   "metadata": {},
   "outputs": [
    {
     "name": "stdout",
     "output_type": "stream",
     "text": [
      "Time elapsed:  0:00:17.703000\n",
      "n_trees: 5 . Score: [ 0.63397413  0.64193832  0.63298826  0.63554642  0.63234004]\n",
      "Time elapsed:  0:00:30.948000\n",
      "n_trees: 10 . Score: [ 0.66383799  0.66635457  0.66360048  0.66529818  0.66516222]\n",
      "Time elapsed:  0:00:44.314000\n",
      "n_trees: 15 . Score: [ 0.67589098  0.67647457  0.67383635  0.67687101  0.67817953]\n",
      "Time elapsed:  0:01:03.106000\n",
      "n_trees: 20 . Score: [ 0.68083889  0.68272733  0.67969876  0.6834932   0.6855512 ]\n",
      "Time elapsed:  0:01:21.577000\n",
      "n_trees: 25 . Score: [ 0.68641138  0.68606793  0.6838322   0.68810339  0.68906025]\n",
      "Time elapsed:  0:01:31.379000\n",
      "n_trees: 30 . Score: [ 0.68892093  0.68934663  0.68712298  0.69180598  0.69283583]\n",
      "Time elapsed:  0:02:06.902000\n",
      "n_trees: 40 . Score: [ 0.69264125  0.69335305  0.69153074  0.69586466  0.69680392]\n",
      "Time elapsed:  0:03:58.050000\n",
      "n_trees: 80 . Score: [ 0.70272368  0.70352284  0.70166409  0.70536378  0.70579495]\n",
      "Time elapsed:  0:07:58.307000\n",
      "n_trees: 160 . Score: [ 0.70965102  0.71083336  0.71000567  0.7123734   0.71336787]\n",
      "Time elapsed:  0:09:09.512000\n",
      "n_trees: 200 . Score: [ 0.71213644  0.71304231  0.71228251  0.71555138  0.71549651]\n",
      "Time elapsed:  0:13:03.053000\n",
      "n_trees: 250 . Score: [ 0.71546706  0.714627    0.71491688  0.71730478  0.71710794]\n",
      "Time elapsed:  0:20:03.503000\n",
      "n_trees: 300 . Score: [ 0.71677471  0.71580481  0.7168989   0.71896183  0.71876687]\n",
      "Time elapsed:  0:28:17.742000\n",
      "n_trees: 400 . Score: [ 0.7188478   0.71789007  0.71925551  0.7216185   0.72054177]\n"
     ]
    }
   ],
   "source": [
    "data = pd.read_csv('data/features.csv')\n",
    "data.fillna(value=0, inplace=True)\n",
    "X_train = data.drop([\n",
    "    'duration', \n",
    "    'radiant_win', \n",
    "    'tower_status_radiant', \n",
    "    'tower_status_dire', \n",
    "    'barracks_status_radiant',\n",
    "    'barracks_status_dire'\n",
    "], axis=1)\n",
    "y_train = data['radiant_win']\n",
    "\n",
    "scores = []\n",
    "n_trees = [5, 10, 15, 20, 25, 30, 40, 80, 160, 200, 250, 300, 400]\n",
    "#n_trees = [10, 20, 30]\n",
    "kf = KFold(n=len(y_train.values), n_folds=5, shuffle=True, random_state=42)\n",
    "for n_est in n_trees:\n",
    "    clf = GradientBoostingClassifier(\n",
    "        n_estimators=n_est, \n",
    "        random_state=241, \n",
    "        learning_rate=0.1)\n",
    "    start_time = datetime.datetime.now()\n",
    "    score = cross_val_score(clf, X_train.values, y_train.values, cv=kf, scoring='roc_auc')\n",
    "    print 'Time elapsed: ', datetime.datetime.now() - start_time\n",
    "    print 'n_trees:', n_est, '. Score:', score\n",
    "    scores.append(np.mean(score))"
   ]
  },
  {
   "cell_type": "code",
   "execution_count": 7,
   "metadata": {},
   "outputs": [
    {
     "data": {
      "image/png": "[encoded data removed]",
      "text/plain": [
       "<matplotlib.figure.Figure at 0x5f10ac8>"
      ]
     },
     "metadata": {},
     "output_type": "display_data"
    }
   ],
   "source": [
    "plt.plot(n_trees, scores)\n",
    "plt.show()"
   ]
  },
  {
   "cell_type": "markdown",
   "metadata": {},
   "source": [
    "# Логистическая регрессия. Отчет\n",
    "\n",
    "### 1. Какое качество получилось у логистической регрессии над всеми исходными признаками? Как оно соотносится с качеством градиентного бустинга? Чем вы можете объяснить эту разницу? Быстрее ли работает логистическая регрессия по сравнению с градиентным бустингом?: \n",
    "\n",
    "Наилучшее качество (С=100000): 0.72. Это приблизительно равно качеству градиентного бустинга с 400 деревьями.\n",
    "Логистическая регрессия работает быстрее градиентного бустинга примерно в 3 раза (для 30 деревьев и С=0.00001) и в 67 раз (для 400 деревьев и С=10000000).\n",
    "\n",
    "### 2. Как влияет на качество логистической регрессии удаление категориальных признаков (укажите новое значение метрики качества)? Чем вы можете объяснить это изменение?\n",
    "\n",
    "Удаление категориальных признаков практически не влияет на качество регрессии. Значение метрики - 0.71\n",
    "\n",
    "### 3. Сколько различных идентификаторов героев существует в данной игре?\n",
    "\n",
    "112\n",
    "\n",
    "### 4. Какое получилось качество при добавлении \"мешка слов\" по героям? Улучшилось ли оно по сравнению с предыдущим вариантом? Чем вы можете это объяснить?\n",
    "\n",
    "0.75. Качество улучшилось. Это связано с тем, что вместо удаления информативных категориальных признаков мы заменили их на числовые аналоги с сохранением их смысла. Таким образом мы не потеряли признаки, которые, как оказалось, имеют немалый вес.\n",
    "\n",
    "### 5. Какое минимальное и максимальное значение прогноза на тестовой выборке получилось у лучшего из алгоритмов?\n",
    "\n",
    "Минимальные 0.009\n",
    "\n",
    "Максимальное 0.997"
   ]
  },
  {
   "cell_type": "code",
   "execution_count": 1,
   "metadata": {},
   "outputs": [
    {
     "name": "stderr",
     "output_type": "stream",
     "text": [
      "D:\\Anaconda2\\lib\\site-packages\\sklearn\\cross_validation.py:41: DeprecationWarning: This module was deprecated in version 0.18 in favor of the model_selection module into which all the refactored classes and functions are moved. Also note that the interface of the new CV iterators are different from that of this module. This module will be removed in 0.20.\n",
      "  \"This module will be removed in 0.20.\", DeprecationWarning)\n"
     ]
    }
   ],
   "source": [
    "import pandas as pd\n",
    "import numpy as np\n",
    "import time\n",
    "import datetime\n",
    "import matplotlib.pyplot as plt\n",
    "%matplotlib inline\n",
    "\n",
    "from sklearn.cross_validation import KFold\n",
    "from sklearn.cross_validation import cross_val_score\n",
    "from sklearn.preprocessing import StandardScaler\n",
    "from sklearn.linear_model import LogisticRegression\n",
    "from __future__ import division\n",
    "\n",
    "data = pd.read_csv('data/features.csv', index_col='match_id')\n",
    "data_heroes = pd.read_csv('data/dictionaries/heroes.csv')\n",
    "data_test = pd.read_csv('data/features_test.csv', index_col='match_id')"
   ]
  },
  {
   "cell_type": "markdown",
   "metadata": {},
   "source": [
    "### 1. Оцените качество логистической регрессии (sklearn.linear_model.LogisticRegression с L2-регуляризацией) с помощью кросс-валидации по той же схеме, которая использовалась для градиентного бустинга. Подберите при этом лучший параметр регуляризации (C)."
   ]
  },
  {
   "cell_type": "code",
   "execution_count": 2,
   "metadata": {},
   "outputs": [
    {
     "name": "stdout",
     "output_type": "stream",
     "text": [
      "Time elapsed:  0:00:04.095000\n",
      "c: 1e-05  Score: [ 0.6931532   0.69481539  0.69571379  0.69513159  0.69699445]\n",
      "Time elapsed:  0:00:10.549000\n",
      "c: 0.001  Score: [ 0.71449541  0.71577214  0.71625974  0.71697301  0.71831738]\n",
      "Time elapsed:  0:00:14.296000\n",
      "c: 0.1  Score: [ 0.71462192  0.71617479  0.71619187  0.71737596  0.7182712 ]\n",
      "Time elapsed:  0:00:15.133000\n",
      "c: 1  Score: [ 0.71461815  0.71617185  0.71618338  0.7173762   0.71826341]\n",
      "Time elapsed:  0:00:15.410000\n",
      "c: 10  Score: [ 0.71461695  0.71617179  0.71618281  0.71737669  0.7182632 ]\n",
      "Time elapsed:  0:00:14.940000\n",
      "c: 1000  Score: [ 0.71461693  0.71617214  0.7161825   0.71737659  0.71826346]\n",
      "Time elapsed:  0:00:14.767000\n",
      "c: 100000  Score: [ 0.71461693  0.71617215  0.71618252  0.71737661  0.71826345]\n",
      "Time elapsed:  0:00:14.956000\n",
      "c: 10000000  Score: [ 0.71461693  0.71617215  0.71618252  0.71737661  0.71826345]\n"
     ]
    }
   ],
   "source": [
    "data.fillna(value=0, inplace=True)\n",
    "X = data.drop([\n",
    "    'duration', \n",
    "    'radiant_win', \n",
    "    'tower_status_radiant', \n",
    "    'tower_status_dire', \n",
    "    'barracks_status_radiant',\n",
    "    'barracks_status_dire'\n",
    "], axis=1)\n",
    "y_train = data['radiant_win']\n",
    "scaler = StandardScaler()\n",
    "X.fillna(value=0, inplace=True)\n",
    "X_train = scaler.fit_transform(X)\n",
    "\n",
    "scores = []\n",
    "C = [0.00001, 0.001, 0.1, 1, 10, 1000, 100000, 10000000]\n",
    "kf = KFold(n=len(y_train.values), n_folds=5, shuffle=True, random_state=42)\n",
    "for c in C:\n",
    "    clf = LogisticRegression(C=c, random_state=42)\n",
    "    start_time = datetime.datetime.now()\n",
    "    score = cross_val_score(clf, X_train, y_train, cv=kf, scoring='roc_auc')\n",
    "    print 'Time elapsed: ', datetime.datetime.now() - start_time\n",
    "    print 'c:', c, ' Score:', score\n",
    "    scores.append(np.mean(score))"
   ]
  },
  {
   "cell_type": "markdown",
   "metadata": {},
   "source": [
    "### 2. Уберите категориальные признаки из выборки, и проведите кросс-валидацию для логистической регрессии на новой выборке с подбором лучшего параметра регуляризации. "
   ]
  },
  {
   "cell_type": "code",
   "execution_count": 3,
   "metadata": {},
   "outputs": [
    {
     "name": "stdout",
     "output_type": "stream",
     "text": [
      "Time elapsed:  0:00:03.927000\n",
      "c: 1e-05  Score: [ 0.69315871  0.69479523  0.69564582  0.69518196  0.69694992]\n",
      "Time elapsed:  0:00:11.255000\n",
      "c: 0.001  Score: [ 0.71454097  0.71576992  0.71623277  0.71701307  0.71829979]\n",
      "Time elapsed:  0:00:14.662000\n",
      "c: 0.1  Score: [ 0.7146576   0.71617303  0.71617642  0.71739988  0.71825905]\n",
      "Time elapsed:  0:00:14.263000\n",
      "c: 1  Score: [ 0.71465418  0.7161692   0.7161687   0.71739792  0.71825005]\n",
      "Time elapsed:  0:00:14.511000\n",
      "c: 10  Score: [ 0.71465377  0.71616925  0.71616883  0.71739829  0.71824948]\n",
      "Time elapsed:  0:00:14.643000\n",
      "c: 1000  Score: [ 0.71465364  0.71616924  0.71616864  0.71739836  0.71824937]\n",
      "Time elapsed:  0:00:14.853000\n",
      "c: 100000  Score: [ 0.71465364  0.71616924  0.7161686   0.71739837  0.71824937]\n",
      "Time elapsed:  0:00:15.104000\n",
      "c: 10000000  Score: [ 0.71465364  0.71616924  0.7161686   0.71739837  0.71824937]\n"
     ]
    }
   ],
   "source": [
    "X = data.drop([\n",
    "    'duration', \n",
    "    'radiant_win', \n",
    "    'tower_status_radiant', \n",
    "    'tower_status_dire', \n",
    "    'barracks_status_radiant',\n",
    "    'barracks_status_dire',\n",
    "    'lobby_type',\n",
    "], axis=1)\n",
    "for n in range(1, 6):\n",
    "    X.drop(['r{}_hero'.format(n)], axis=1)\n",
    "    X.drop(['d{}_hero'.format(n)], axis=1)\n",
    "y_train = data['radiant_win']\n",
    "scaler = StandardScaler()\n",
    "X.fillna(value=0, inplace=True)\n",
    "X_train = scaler.fit_transform(X)\n",
    "\n",
    "scores = []\n",
    "C = [0.00001, 0.001, 0.1, 1, 10, 1000, 100000, 10000000]\n",
    "kf = KFold(n=len(y_train.values), n_folds=5, shuffle=True, random_state=42)\n",
    "for c in C:\n",
    "    clf = LogisticRegression(C=c, random_state=42)\n",
    "    start_time = datetime.datetime.now()\n",
    "    score = cross_val_score(clf, X_train, y_train, cv=kf, scoring='roc_auc')\n",
    "    print 'Time elapsed: ', datetime.datetime.now() - start_time\n",
    "    print 'c:', c, ' Score:', score\n",
    "    scores.append(np.mean(score))"
   ]
  },
  {
   "cell_type": "markdown",
   "metadata": {},
   "source": [
    "### 3. Выясните из данных, сколько различных идентификаторов героев существует в данной игре."
   ]
  },
  {
   "cell_type": "code",
   "execution_count": 4,
   "metadata": {},
   "outputs": [
    {
     "name": "stdout",
     "output_type": "stream",
     "text": [
      "Hero count: 112\n"
     ]
    }
   ],
   "source": [
    "print 'Hero count: ' + str(data_heroes.shape[0])"
   ]
  },
  {
   "cell_type": "markdown",
   "metadata": {},
   "source": [
    "### 4. Воспользуемся подходом \"мешок слов\" для кодирования информации о героях."
   ]
  },
  {
   "cell_type": "code",
   "execution_count": 5,
   "metadata": {
    "collapsed": true
   },
   "outputs": [],
   "source": [
    "N = data_heroes.shape[0]\n",
    "X_pick = np.zeros((data.shape[0], N))\n",
    "\n",
    "for i, match_id in enumerate(data.index):\n",
    "    for p in xrange(5):\n",
    "        X_pick[i, data.loc[match_id, 'r%d_hero' % (p+1)]-1] = 1\n",
    "        X_pick[i, data.loc[match_id, 'd%d_hero' % (p+1)]-1] = -1"
   ]
  },
  {
   "cell_type": "markdown",
   "metadata": {},
   "source": [
    "### 5. Проведите кросс-валидацию для логистической регрессии на новой выборке с подбором лучшего параметра регуляризации."
   ]
  },
  {
   "cell_type": "code",
   "execution_count": 6,
   "metadata": {},
   "outputs": [
    {
     "name": "stdout",
     "output_type": "stream",
     "text": [
      "Time elapsed:  0:00:06.584000\n",
      "c: 1e-05  Score: [ 0.71232219  0.71414825  0.71442411  0.71647376  0.71664742]\n",
      "Time elapsed:  0:00:20.449000\n",
      "c: 0.001  Score: [ 0.74890517  0.7522602   0.74929734  0.75585436  0.75156937]\n",
      "Time elapsed:  0:00:31.183000\n",
      "c: 0.1  Score: [ 0.74938328  0.75312868  0.7493699   0.75610595  0.75149897]\n",
      "Time elapsed:  0:00:31.393000\n",
      "c: 1  Score: [ 0.74937961  0.75312484  0.74936322  0.75609744  0.75148981]\n",
      "Time elapsed:  0:00:31.445000\n",
      "c: 10  Score: [ 0.74937942  0.753125    0.74936265  0.75609606  0.7514887 ]\n",
      "Time elapsed:  0:00:31.491000\n",
      "c: 1000  Score: [ 0.74937939  0.75312504  0.74936235  0.75609589  0.75148854]\n",
      "Time elapsed:  0:00:30.939000\n",
      "c: 100000  Score: [ 0.74937941  0.75312504  0.74936234  0.75609589  0.75148853]\n",
      "Time elapsed:  0:00:30.547000\n",
      "c: 10000000  Score: [ 0.74937941  0.75312504  0.74936234  0.75609589  0.75148853]\n"
     ]
    }
   ],
   "source": [
    "X = data.drop([\n",
    "    'duration', \n",
    "    'radiant_win', \n",
    "    'tower_status_radiant', \n",
    "    'tower_status_dire', \n",
    "    'barracks_status_radiant',\n",
    "    'barracks_status_dire',\n",
    "    'lobby_type',\n",
    "], axis=1)\n",
    "for n in range(1, 6):\n",
    "    X.drop(['r{}_hero'.format(n)], axis=1)\n",
    "    X.drop(['d{}_hero'.format(n)], axis=1)\n",
    "\n",
    "# forming bag-of-words      \n",
    "X_pick_transp = np.transpose(X_pick)\n",
    "for i in range(0, N):\n",
    "    X[\"bow_\"+str(i)] = pd.Series(X_pick_transp[i], index=data.index)\n",
    "\n",
    "y_train = data['radiant_win']\n",
    "scaler = StandardScaler()\n",
    "X.fillna(value=0, inplace=True)\n",
    "X_train = scaler.fit_transform(X)\n",
    "\n",
    "scores = []\n",
    "C = [0.00001, 0.001, 0.1, 1, 10, 1000, 100000, 10000000]\n",
    "kf = KFold(n=len(y_train.values), n_folds=5, shuffle=True, random_state=42)\n",
    "for c in C:\n",
    "    clf = LogisticRegression(C=c, random_state=42)\n",
    "    start_time = datetime.datetime.now()\n",
    "    score = cross_val_score(clf, X_train, y_train, cv=kf, scoring='roc_auc')\n",
    "    print 'Time elapsed: ', datetime.datetime.now() - start_time\n",
    "    print 'c:', c, ' Score:', score\n",
    "    scores.append(np.mean(score))"
   ]
  },
  {
   "cell_type": "code",
   "execution_count": 7,
   "metadata": {},
   "outputs": [
    {
     "data": {
      "image/png": "[encoded data removed]",
      "text/plain": [
       "<matplotlib.figure.Figure at 0xc905c88>"
      ]
     },
     "metadata": {},
     "output_type": "display_data"
    }
   ],
   "source": [
    "plt.plot([1, 2, 3, 4, 5, 6, 7, 8], scores)\n",
    "plt.show()"
   ]
  },
  {
   "cell_type": "markdown",
   "metadata": {},
   "source": [
    "### 6. Постройте предсказания вероятностей победы команды Radiant для тестовой выборки с помощью лучшей из изученных моделей (лучшей с точки зрения AUC-ROC на кросс-валидации)."
   ]
  },
  {
   "cell_type": "code",
   "execution_count": 8,
   "metadata": {},
   "outputs": [
    {
     "name": "stdout",
     "output_type": "stream",
     "text": [
      "min 0.00892501228453\n",
      "max 0.996509452456\n"
     ]
    }
   ],
   "source": [
    "# Forming test features -----------------------------------------------\n",
    "N = data_heroes.shape[0]\n",
    "X_pick = np.zeros((data_test.shape[0], N))\n",
    "for i, match_id in enumerate(data_test.index):\n",
    "    for p in xrange(5):\n",
    "        X_pick[i, data_test.loc[match_id, 'r%d_hero' % (p+1)]-1] = 1\n",
    "        X_pick[i, data_test.loc[match_id, 'd%d_hero' % (p+1)]-1] = -1\n",
    "        \n",
    "X = data_test.drop(['lobby_type'], axis=1)\n",
    "for n in range(1, 6):\n",
    "    X.drop(['r{}_hero'.format(n)], axis=1)\n",
    "    X.drop(['d{}_hero'.format(n)], axis=1)\n",
    "\n",
    "# forming bag-of-words      \n",
    "X_pick_transp = np.transpose(X_pick)\n",
    "for i in range(0, N):\n",
    "    X[\"bow_\"+str(i)] = pd.Series(X_pick_transp[i], index=data_test.index)\n",
    "\n",
    "scaler = StandardScaler()\n",
    "X.fillna(value=0, inplace=True)\n",
    "X_test = scaler.fit_transform(X)\n",
    "\n",
    "# Test\n",
    "clf.fit(X_train, y_train)\n",
    "prob_pos = clf.predict_proba(X_test)\n",
    "\n",
    "print 'min ' + str(min(prob_pos[:, 1]))\n",
    "print 'max ' + str(max(prob_pos[:, 1]))"
   ]
  },
  {
   "cell_type": "code",
   "execution_count": 10,
   "metadata": {},
   "outputs": [
    {
     "data": {
      "text/plain": [
       "0.69000646999999993"
      ]
     },
     "execution_count": 10,
     "metadata": {},
     "output_type": "execute_result"
    }
   ],
   "source": [
    "np.mean([ 0.68892093,  0.68934663,  0.68712298,  0.69180598,  0.69283583])"
   ]
  },
  {
   "cell_type": "code",
   "execution_count": null,
   "metadata": {
    "collapsed": true
   },
   "outputs": [],
   "source": []
  }
 ],
 "metadata": {
  "kernelspec": {
   "display_name": "Python 2",
   "language": "python",
   "name": "python2"
  },
  "language_info": {
   "codemirror_mode": {
    "name": "ipython",
    "version": 2
   },
   "file_extension": ".py",
   "mimetype": "text/x-python",
   "name": "python",
   "nbconvert_exporter": "python",
   "pygments_lexer": "ipython2",
   "version": "2.7.14"
  }
 },
 "nbformat": 4,
 "nbformat_minor": 2
}
