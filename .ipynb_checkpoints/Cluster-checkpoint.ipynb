{
 "cells": [
  {
   "cell_type": "code",
   "execution_count": 1,
   "metadata": {},
   "outputs": [],
   "source": [
    "import pandas as pd\n",
    "import numpy as np\n",
    "from skimage import img_as_float\n",
    "from sklearn.cluster import KMeans\n",
    "from skimage.io import imread\n",
    "from __future__ import division\n",
    "import time\n",
    "import pylab\n",
    "%matplotlib inline\n",
    "\n",
    "def image2matrix(X, n, m): \n",
    "    matrix = []; \n",
    "    for i in range(0, n): \n",
    "        for j in range(0, m): \n",
    "            matrix.append(X[i][j]) \n",
    "    return np.array(matrix) \n",
    "\n",
    "def matrix2image(X, n, m): \n",
    "    image = np.zeros((n, m, 3)); \n",
    "    for i in range(0, n): \n",
    "        for j in range(0, m): \n",
    "            image[i][j] = X[m*i + j] \n",
    "    return image\n",
    "\n",
    "def getColorMedianArray(X, labels, n_clusters):\n",
    "    medianArray = list()\n",
    "    for i in xrange(0, n_clusters):\n",
    "        medianArray.append([])\n",
    "    L = len(X)\n",
    "    for i in xrange(0, L):\n",
    "        medianArray[labels[i]].append(X[i])\n",
    "    for i in xrange(0, n_clusters):\n",
    "        medianArray[i] = np.median(medianArray[i], axis=0)\n",
    "    return np.array(medianArray)\n",
    "\n",
    "def getPSNR(I, K):\n",
    "    return 10*np.log10(1/np.nanmean(((I - K) ** 2).mean(axis=None)))"
   ]
  },
  {
   "cell_type": "code",
   "execution_count": 2,
   "metadata": {},
   "outputs": [],
   "source": [
    "image = imread('other_files/parrots.jpg') \n",
    "image_f = img_as_float(image) "
   ]
  },
  {
   "cell_type": "code",
   "execution_count": 11,
   "metadata": {},
   "outputs": [
    {
     "name": "stdout",
     "output_type": "stream",
     "text": [
      "[9.4278404605073973, 9.8188355447712912]\n",
      "[11.655077266907849, 12.08017030530436]\n",
      "[12.774948175099812, 13.15347121293569]\n",
      "[14.005928721924676, 14.367807693969111]\n",
      "[15.177909077346129, 15.527127647188168]\n",
      "[16.051176778469276, 16.543992608344684]\n",
      "[17.339368491425024, 17.640985921681636]\n",
      "[18.137971443396101, 18.436819103300206]\n",
      "[18.813887356170621, 19.11266313654821]\n",
      "[19.417472515521059, 19.640740487474279]\n",
      "[19.841284073899541, 20.127583570977691]\n",
      "[20.304411065558547, 20.592506619385627]\n",
      "[20.792764442541802, 21.021371526439076]\n",
      "[21.041187112763314, 21.296835210936745]\n",
      "[21.406440060411661, 21.607158950787181]\n",
      "[21.676272681421985, 21.86310428154254]\n",
      "[21.919033084798265, 22.119797787617372]\n",
      "[22.129324222239887, 22.335486977005612]\n",
      "[22.360974944755693, 22.522084161476307]\n",
      "[22.480001314030766, 22.699052532431057]\n",
      "7.74916666349\n"
     ]
    }
   ],
   "source": [
    "# TAKES AT LEAST 13 MINUTES TO FINISH !!!!!!!!!!!!!!!!!!!!!!!!!!!!\n",
    "\n",
    "start = time.time()\n",
    "#---------------------------------------------------------\n",
    "psnr = []\n",
    "X = image2matrix(image_f, len(image_f), len(image_f[0])) \n",
    "for n_clusters in xrange(1, 21):\n",
    "    kmeans = KMeans(init='k-means++', random_state=241, n_clusters=n_clusters).fit(X) \n",
    "    medians = getColorMedianArray(X, kmeans.labels_, n_clusters)\n",
    "    X_mean = np.array(list(map(lambda x: np.array(kmeans.cluster_centers_[x]), kmeans.labels_))) \n",
    "    X_median = []\n",
    "    for i in xrange(0, len(kmeans.labels_)):\n",
    "        X_median.append(medians[kmeans.labels_[i]])\n",
    "    mean_image_f = matrix2image(X_mean, len(image_f), len(image_f[0])) \n",
    "    median_image_f = matrix2image(X_median, len(image_f), len(image_f[0])) \n",
    "    psnr.append([getPSNR(image_f, median_image_f), getPSNR(image_f, mean_image_f)])\n",
    "    print psnr[n_clusters-1]\n",
    "#---------------------------------------------------------\n",
    "end = time.time()\n",
    "print (end-start)/60"
   ]
  },
  {
   "cell_type": "code",
   "execution_count": null,
   "metadata": {
    "collapsed": true
   },
   "outputs": [],
   "source": []
  }
 ],
 "metadata": {
  "kernelspec": {
   "display_name": "Python 2",
   "language": "python",
   "name": "python2"
  },
  "language_info": {
   "codemirror_mode": {
    "name": "ipython",
    "version": 2
   },
   "file_extension": ".py",
   "mimetype": "text/x-python",
   "name": "python",
   "nbconvert_exporter": "python",
   "pygments_lexer": "ipython2",
   "version": "2.7.14"
  }
 },
 "nbformat": 4,
 "nbformat_minor": 2
}
