{
 "cells": [
  {
   "cell_type": "code",
   "execution_count": 122,
   "metadata": {},
   "outputs": [],
   "source": [
    "import pandas as pd\n",
    "import numpy as np\n",
    "from sklearn import neighbors\n",
    "from sklearn import model_selection\n",
    "from sklearn.model_selection import cross_val_score\n",
    "from sklearn.neighbors import KNeighborsClassifier\n",
    "from sklearn.preprocessing import scale"
   ]
  },
  {
   "cell_type": "code",
   "execution_count": 123,
   "metadata": {
    "collapsed": true
   },
   "outputs": [],
   "source": [
    "data = pd.read_csv('https://archive.ics.uci.edu/ml/machine-learning-databases/wine/wine.data', \n",
    "                   names=['Class', 'Alcohol', 'Malic acid', 'Ash', 'Alcalinity of ash', 'Magnesium', 'Total phenols', \n",
    "                         'Flavanoids', 'Nonflavanoid phenols', 'Proanthocyanins', 'Color intensity', 'Hue', 'OD280/OD315 of diluted wines', 'Proline', ])"
   ]
  },
  {
   "cell_type": "code",
   "execution_count": 124,
   "metadata": {
    "collapsed": true
   },
   "outputs": [],
   "source": [
    "classes = data.Class\n",
    "features = data.drop('Class', axis=1)"
   ]
  },
  {
   "cell_type": "code",
   "execution_count": 107,
   "metadata": {},
   "outputs": [],
   "source": [
    "#for train_index, test_index in kf.split(features):\n",
    "#    print(\"TRAIN:\", train_index, \"TEST:\", test_index)\n",
    "#    X_train, X_test = features.values[train_index], features.values[test_index]\n",
    "#    y_train, y_test = classes[train_index], classes[test_index]\n",
    "\n",
    "cv_scores = []\n",
    "for k in range(1,51):\n",
    "    kf = KFold(shuffle=True, random_state=42, n_splits=5)\n",
    "    knn = KNeighborsClassifier(n_neighbors=k)\n",
    "    for train_index, test_index in kf.split(features):\n",
    "        X_train = features.values[train_index]\n",
    "        y_train = classes[train_index]\n",
    "        scores = cross_val_score(knn, X_train, y_train, cv=kf, scoring='accuracy')\n",
    "        cv_scores.append(scores.mean())\n",
    "        \n",
    "k_max=[]\n",
    "for k in xrange(0, 250, 5):\n",
    "    k_max.append(np.amax([cv_scores[k], cv_scores[k+1], cv_scores[k+2], cv_scores[k+3], cv_scores[k+4]]))"
   ]
  },
  {
   "cell_type": "code",
   "execution_count": 138,
   "metadata": {},
   "outputs": [],
   "source": [
    "# With normalize\n",
    "\n",
    "features = pd.DataFrame(scale(features))\n",
    "\n",
    "cv_scores = []\n",
    "for k in range(1,51):\n",
    "    kf = KFold(shuffle=True, random_state=42, n_splits=5)\n",
    "    knn = KNeighborsClassifier(n_neighbors=k)\n",
    "    for train_index, test_index in kf.split(features):\n",
    "        X_train = features.values[train_index]\n",
    "        y_train = classes[train_index]\n",
    "        scores = cross_val_score(knn, X_train, y_train, cv=kf, scoring='accuracy')\n",
    "        cv_scores.append(scores.mean())\n",
    "        \n",
    "k_max=[]\n",
    "for k in xrange(0, 250, 5):\n",
    "    k_max.append(np.amax([cv_scores[k], cv_scores[k+1], cv_scores[k+2], cv_scores[k+3], cv_scores[k+4]]))"
   ]
  },
  {
   "cell_type": "code",
   "execution_count": 139,
   "metadata": {},
   "outputs": [
    {
     "name": "stdout",
     "output_type": "stream",
     "text": [
      "16\n",
      "0.985960591133\n"
     ]
    }
   ],
   "source": [
    "print np.argmax(k_max)\n",
    "print np.amax(k_max)"
   ]
  },
  {
   "cell_type": "code",
   "execution_count": null,
   "metadata": {
    "collapsed": true
   },
   "outputs": [],
   "source": []
  }
 ],
 "metadata": {
  "kernelspec": {
   "display_name": "Python 2",
   "language": "python",
   "name": "python2"
  },
  "language_info": {
   "codemirror_mode": {
    "name": "ipython",
    "version": 2
   },
   "file_extension": ".py",
   "mimetype": "text/x-python",
   "name": "python",
   "nbconvert_exporter": "python",
   "pygments_lexer": "ipython2",
   "version": "2.7.14"
  }
 },
 "nbformat": 4,
 "nbformat_minor": 2
}
