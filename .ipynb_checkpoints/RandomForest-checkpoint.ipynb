{
 "cells": [
  {
   "cell_type": "code",
   "execution_count": 14,
   "metadata": {},
   "outputs": [],
   "source": [
    "import pandas as pd\n",
    "import numpy as np\n",
    "from sklearn.ensemble import RandomForestRegressor\n",
    "from sklearn.cross_validation import KFold\n",
    "from sklearn.metrics import r2_score\n",
    "from sklearn.model_selection import cross_val_score\n",
    "\n",
    "def getData():\n",
    "    data_train = pd.read_csv('other_files/abalone.csv')\n",
    "    data_train.Sex = data_train.Sex.map(lambda x: 1 if x == 'M' else (-1 if x == 'F' else 0))\n",
    "    return data_train"
   ]
  },
  {
   "cell_type": "code",
   "execution_count": 15,
   "metadata": {
    "collapsed": true
   },
   "outputs": [],
   "source": [
    "# TAKES AT LEAST 2 MINUTES CALCULATION\n",
    "\n",
    "data_train = getData()\n",
    "X = data_train.drop('Rings', axis=1)\n",
    "y = data_train.Rings\n",
    "\n",
    "score = []\n",
    "n_estim = xrange(1, 51)\n",
    "for n in n_estim:\n",
    "    clf = RandomForestRegressor(n_estimators=n, random_state=1)\n",
    "    kf = KFold(y.size, n_folds=5, shuffle=True, random_state=1)\n",
    "    score.append(np.mean(cross_val_score(clf, X, y, cv=kf, scoring='r2')))"
   ]
  },
  {
   "cell_type": "code",
   "execution_count": 7,
   "metadata": {},
   "outputs": [],
   "source": [
    "score = []\n",
    "n_estim = xrange(1, 51)\n",
    "for n in n_estim:\n",
    "    clf = RandomForestRegressor(n_estimators=n, random_state=1)\n",
    "    kf = KFold(y.size, n_folds=5, shuffle=True, random_state=1)\n",
    "    score.append(np.mean(cross_val_score(clf, X, y, cv=kf, scoring='r2')))\n",
    "        "
   ]
  },
  {
   "cell_type": "code",
   "execution_count": 12,
   "metadata": {},
   "outputs": [
    {
     "name": "stdout",
     "output_type": "stream",
     "text": [
      "(1, 21)\n"
     ]
    }
   ],
   "source": [
    "for n, score in enumerate(score):\n",
    "    if score > 0.52:\n",
    "        print (1, n)\n",
    "        break"
   ]
  },
  {
   "cell_type": "code",
   "execution_count": null,
   "metadata": {
    "collapsed": true
   },
   "outputs": [],
   "source": []
  }
 ],
 "metadata": {
  "kernelspec": {
   "display_name": "Python 2",
   "language": "python",
   "name": "python2"
  },
  "language_info": {
   "codemirror_mode": {
    "name": "ipython",
    "version": 2
   },
   "file_extension": ".py",
   "mimetype": "text/x-python",
   "name": "python",
   "nbconvert_exporter": "python",
   "pygments_lexer": "ipython2",
   "version": "2.7.14"
  }
 },
 "nbformat": 4,
 "nbformat_minor": 2
}
