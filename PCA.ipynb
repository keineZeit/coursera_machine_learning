{
 "cells": [
  {
   "cell_type": "code",
   "execution_count": 1,
   "metadata": {},
   "outputs": [],
   "source": [
    "import pandas as pd\n",
    "import numpy as np\n",
    "from sklearn.decomposition import PCA\n",
    "\n",
    "data_train = pd.read_csv('other_files/close_prices.csv')\n",
    "doy = pd.read_csv('other_files/djia_index.csv')\n",
    "X = data_train.drop('date', axis=1)"
   ]
  },
  {
   "cell_type": "code",
   "execution_count": 2,
   "metadata": {},
   "outputs": [
    {
     "name": "stdout",
     "output_type": "stream",
     "text": [
      "[ 0.73897118  0.11007169  0.04995088  0.0287492   0.02215448  0.01931577\n",
      "  0.00674853  0.00614091  0.00320594  0.00305611]\n"
     ]
    }
   ],
   "source": [
    "pca = PCA(n_components=10)\n",
    "pca.fit(X)\n",
    "print pca.explained_variance_ratio_"
   ]
  },
  {
   "cell_type": "code",
   "execution_count": 18,
   "metadata": {},
   "outputs": [
    {
     "name": "stdout",
     "output_type": "stream",
     "text": [
      "[[ 1.    0.91]\n",
      " [ 0.91  1.  ]]\n"
     ]
    }
   ],
   "source": [
    "X_trans = pca.transform(X)\n",
    "X_first_comp = []\n",
    "for i in xrange(0, len(X_trans)):\n",
    "    X_first_comp.append(X_trans[i][0])\n",
    "corr = np.corrcoef([X_first_comp, doy['^DJI']])\n",
    "print np.round(corr, 2)"
   ]
  },
  {
   "cell_type": "code",
   "execution_count": 32,
   "metadata": {},
   "outputs": [
    {
     "name": "stdout",
     "output_type": "stream",
     "text": [
      "Number of company (from 0): 1\n"
     ]
    }
   ],
   "source": [
    "print 'Number of company (from 0): '+str(np.argmax(X_trans[0]))"
   ]
  },
  {
   "cell_type": "code",
   "execution_count": 54,
   "metadata": {},
   "outputs": [
    {
     "data": {
      "text/plain": [
       "26"
      ]
     },
     "execution_count": 54,
     "metadata": {},
     "output_type": "execute_result"
    }
   ],
   "source": [
    "np.argmax(pca.components_[0])"
   ]
  },
  {
   "cell_type": "code",
   "execution_count": 60,
   "metadata": {},
   "outputs": [
    {
     "data": {
      "text/plain": [
       "'V'"
      ]
     },
     "execution_count": 60,
     "metadata": {},
     "output_type": "execute_result"
    }
   ],
   "source": [
    "data_train.columns[27]"
   ]
  },
  {
   "cell_type": "code",
   "execution_count": 59,
   "metadata": {},
   "outputs": [
    {
     "data": {
      "text/plain": [
       "array([  1.61383840e-02,   1.20644923e-01,  -5.16612711e-02,\n",
       "         5.04842369e-02,  -1.25859933e-01,   1.14089567e-01,\n",
       "         2.33906290e-01,  -6.20513749e-03,   2.51227032e-01,\n",
       "         2.88996029e-01,  -2.64998795e-01,   9.31320168e-02,\n",
       "         9.13948403e-02,   4.69879340e-02,   2.90549417e-02,\n",
       "        -2.61068828e-02,   3.29615584e-01,   7.13897133e-02,\n",
       "         7.62295699e-02,   2.11888868e-01,   2.30922941e-02,\n",
       "         7.77316954e-02,  -7.20594590e-03,   1.89479745e-01,\n",
       "         3.21564017e-01,   5.36834873e-02,   5.79683946e-01,\n",
       "         1.09122230e-04,   8.71614334e-02,  -4.29421420e-02])"
      ]
     },
     "execution_count": 59,
     "metadata": {},
     "output_type": "execute_result"
    }
   ],
   "source": [
    "pca.components_[0]"
   ]
  },
  {
   "cell_type": "code",
   "execution_count": null,
   "metadata": {
    "collapsed": true
   },
   "outputs": [],
   "source": []
  }
 ],
 "metadata": {
  "kernelspec": {
   "display_name": "Python 2",
   "language": "python",
   "name": "python2"
  },
  "language_info": {
   "codemirror_mode": {
    "name": "ipython",
    "version": 2
   },
   "file_extension": ".py",
   "mimetype": "text/x-python",
   "name": "python",
   "nbconvert_exporter": "python",
   "pygments_lexer": "ipython2",
   "version": "2.7.14"
  }
 },
 "nbformat": 4,
 "nbformat_minor": 2
}
