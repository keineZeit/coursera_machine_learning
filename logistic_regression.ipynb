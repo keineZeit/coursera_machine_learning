{
 "cells": [
  {
   "cell_type": "code",
   "execution_count": 23,
   "metadata": {},
   "outputs": [],
   "source": [
    "import pandas as pd\n",
    "import numpy as np\n",
    "from __future__ import division\n",
    "from scipy.spatial.distance import euclidean\n",
    "from sklearn.metrics import roc_auc_score\n",
    "\n",
    "data = pd.read_csv('other_files/data-logistic.csv', names=['Class', '1', '2'])\n",
    "X = data.drop('Class', axis=1)\n",
    "y = data['Class']\n",
    "L = len(X)\n",
    "#X = data.drop('Class', axis=1)[:180]\n",
    "#y = data['Class'][:180]\n",
    "#L = len(X)\n",
    "#X_train = data.drop('Class', axis=1)[-25:]\n",
    "#y_train = data['Class'][-25:]\n",
    "#L_train = len(X_train)\n",
    "#X_all = data.drop('Class', axis=1)\n",
    "#y_all = data['Class']\n",
    "#L_all = len(X_all)\n",
    "C = 10\n",
    "k = 0.1\n",
    "w_interval = 0.00001"
   ]
  },
  {
   "cell_type": "code",
   "execution_count": 14,
   "metadata": {},
   "outputs": [],
   "source": [
    "def regression_eq(X, y, w1, w2):\n",
    "    Sum = 0;\n",
    "    for i in xrange(0, L):\n",
    "        Sum += np.log(1+np.exp(-1*y[0]*(w1*X['1'][i] + w2*X['2'][i])))\n",
    "    return (1/L)*Sum\n",
    "\n",
    "def regul_regression_eq(X, y, w1, w2):\n",
    "    Sum = 0;\n",
    "    for i in xrange(0, L):\n",
    "        Sum += np.log(1+np.exp(-1*y[0]*(w1*X['1'][i] + w2*X['2'][i])))\n",
    "    return (1/L)*Sum + (1/2)*C*(np.linalg.norm([w1,w2]))\n",
    "\n",
    "def w1_diff(X, y, w1, w2):\n",
    "    Sum = 0;\n",
    "    for i in xrange(0, L):\n",
    "        Sum += y[i]*X['1'][i]*(1-(1/(1+np.exp(-1*y[i]*(w1*X['1'][i] + w2*X['2'][i])))))\n",
    "    return w1 + k*(1/L)*Sum\n",
    "\n",
    "def regul_w1_diff(X, y, w1, w2):\n",
    "    Sum = 0;\n",
    "    for i in xrange(0, L):\n",
    "        Sum += y[i]*X['1'][i]*(1-(1/(1+np.exp(-1*y[i]*(w1*X['1'][i] + w2*X['2'][i])))))\n",
    "    return w1 + k*(1/L)*Sum - k*C*w1\n",
    "\n",
    "def w2_diff(X, y, w1, w2):\n",
    "    Sum = 0;\n",
    "    for i in xrange(0, L):\n",
    "        Sum += y[i]*X['2'][i]*(1-(1/(1+np.exp(-1*y[i]*(w1*X['1'][i] + w2*X['2'][i])))))\n",
    "    return w2 + k*(1/L)*Sum\n",
    "\n",
    "def regul_w2_diff(X, y, w1, w2):\n",
    "    Sum = 0;\n",
    "    for i in xrange(0, L):\n",
    "        Sum += y[i]*X['2'][i]*(1-(1/(1+np.exp(-1*y[i]*(w1*X['1'][i] + w2*X['2'][i])))))\n",
    "    return w2 + k*(1/L)*Sum - k*C*w2"
   ]
  },
  {
   "cell_type": "code",
   "execution_count": 27,
   "metadata": {},
   "outputs": [],
   "source": [
    "w1 = 0\n",
    "w2 = 0\n",
    "for i in xrange(0, 10000):\n",
    "    w1_new = w1_diff(X, y, w1, w2)\n",
    "    w2_new = w2_diff(X, y, w1, w2)\n",
    "    if (euclidean([w1, w2], [w1_new, w2_new]) >= w_interval):\n",
    "        w1 = w1_new\n",
    "        w2 = w2_new\n",
    "    else:\n",
    "        break\n",
    "        \n",
    "y_score = []\n",
    "for i in xrange(0, L):\n",
    "    y_score.append(1/(1 + np.exp(-1*X['1'][i]*w1 - X['2'][i]*w2)))\n",
    "\n",
    "w1 = 0\n",
    "w2 = 0\n",
    "for i in xrange(0, 10000):\n",
    "    w1_new = regul_w1_diff(X, y, w1, w2)\n",
    "    w2_new = regul_w2_diff(X, y, w1, w2)\n",
    "    if (euclidean([w1, w2], [w1_new, w2_new]) >= w_interval):\n",
    "        w1 = w1_new\n",
    "        w2 = w2_new\n",
    "    else:\n",
    "        break\n",
    "        \n",
    "regul_y_score = []\n",
    "for i in xrange(0, L):\n",
    "    regul_y_score.append((1/(1 + np.exp(-1*X['1'][i]*w1-X['2'][i]*w2))))"
   ]
  },
  {
   "cell_type": "code",
   "execution_count": 26,
   "metadata": {},
   "outputs": [
    {
     "name": "stdout",
     "output_type": "stream",
     "text": [
      "0.927\n",
      "0.936\n"
     ]
    }
   ],
   "source": [
    "print np.round(roc_auc_score(y, y_score), 3)\n",
    "print np.round(roc_auc_score(y, regul_y_score), 3)"
   ]
  },
  {
   "cell_type": "code",
   "execution_count": null,
   "metadata": {
    "collapsed": true
   },
   "outputs": [],
   "source": []
  }
 ],
 "metadata": {
  "kernelspec": {
   "display_name": "Python 2",
   "language": "python",
   "name": "python2"
  },
  "language_info": {
   "codemirror_mode": {
    "name": "ipython",
    "version": 2
   },
   "file_extension": ".py",
   "mimetype": "text/x-python",
   "name": "python",
   "nbconvert_exporter": "python",
   "pygments_lexer": "ipython2",
   "version": "2.7.14"
  }
 },
 "nbformat": 4,
 "nbformat_minor": 2
}
